#### Testing ipython notebook

import pandas as pd

inputfile = 'https://cdn.rawgit.com/OEFDataScience/REIGN.github.io/gh-pages/data_sets/REIGN_2018_5.csv'
df = pd.read_csv(inputfile)
df.head
